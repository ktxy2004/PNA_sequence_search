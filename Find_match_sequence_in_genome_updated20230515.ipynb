{
  "nbformat": 4,
  "nbformat_minor": 0,
  "metadata": {
    "colab": {
      "provenance": [],
      "mount_file_id": "1J8flkB8qwORqKCCLrDnBlOxKlVGtP1uF",
      "authorship_tag": "ABX9TyOyVhAs70wpthVxJg++xy9+",
      "include_colab_link": true
    },
    "kernelspec": {
      "name": "python3",
      "display_name": "Python 3"
    },
    "language_info": {
      "name": "python"
    }
  },
  "cells": [
    {
      "cell_type": "markdown",
      "metadata": {
        "id": "view-in-github",
        "colab_type": "text"
      },
      "source": [
        "<a href=\"https://colab.research.google.com/github/ktxy2004/PNA_sequence_search/blob/main/Find_match_sequence_in_genome_updated20230515.ipynb\" target=\"_parent\"><img src=\"https://colab.research.google.com/assets/colab-badge.svg\" alt=\"Open In Colab\"/></a>"
      ]
    },
    {
      "cell_type": "markdown",
      "source": [
        "Aim to detect sequence mataches to intended PNAs sequence and report whether a translational start site is included. Scan through CDS and exon in a genome. Genome file and corresponding gff file are required."
      ],
      "metadata": {
        "id": "L7ZtwsUD4hL8"
      }
    },
    {
      "cell_type": "code",
      "execution_count": null,
      "metadata": {
        "colab": {
          "base_uri": "https://localhost:8080/"
        },
        "id": "0wGEdqFi9zT0",
        "outputId": "9f91bddf-9a00-4f80-c465-446a318634d6"
      },
      "outputs": [
        {
          "output_type": "stream",
          "name": "stdout",
          "text": [
            "Mounted at /content/drive\n"
          ]
        }
      ],
      "source": [
        "##Mount google drive\n",
        "\n",
        "from google.colab import drive\n",
        "drive.mount('/content/drive')"
      ]
    },
    {
      "cell_type": "code",
      "execution_count": null,
      "metadata": {
        "colab": {
          "base_uri": "https://localhost:8080/"
        },
        "id": "4ruDBO__6IMZ",
        "outputId": "1cb27a3b-fdca-4d48-fb3d-35c68b5c3dec"
      },
      "outputs": [
        {
          "output_type": "stream",
          "name": "stdout",
          "text": [
            "Looking in indexes: https://pypi.org/simple, https://us-python.pkg.dev/colab-wheels/public/simple/\n",
            "Collecting biopython\n",
            "  Downloading biopython-1.81-cp310-cp310-manylinux_2_17_x86_64.manylinux2014_x86_64.whl (3.1 MB)\n",
            "\u001b[2K     \u001b[90m━━━━━━━━━━━━━━━━━━━━━━━━━━━━━━━━━━━━━━━━\u001b[0m \u001b[32m3.1/3.1 MB\u001b[0m \u001b[31m6.9 MB/s\u001b[0m eta \u001b[36m0:00:00\u001b[0m\n",
            "\u001b[?25hRequirement already satisfied: tqdm in /usr/local/lib/python3.10/dist-packages (4.65.0)\n",
            "Requirement already satisfied: numpy in /usr/local/lib/python3.10/dist-packages (from biopython) (1.22.4)\n",
            "Installing collected packages: biopython\n",
            "Successfully installed biopython-1.81\n"
          ]
        },
        {
          "output_type": "stream",
          "name": "stderr",
          "text": [
            "Finding overlapping CDSs: 100%|██████████| 630/630 [00:00<00:00, 1048992.27it/s]\n"
          ]
        }
      ],
      "source": [
        " !pip install biopython tqdm\n",
        "from functools import partial\n",
        "from Bio import SeqIO\n",
        "from Bio.SeqFeature import FeatureLocation\n",
        "from Bio.Seq import reverse_complement\n",
        "from tqdm import tqdm\n",
        "\n",
        "\n",
        "def find_sequence(genome_file, sequence, gff_file):\n",
        "    # Load genome sequences\n",
        "    genome_records = list(SeqIO.parse(genome_file, \"fasta\"))\n",
        "\n",
        "    # Create a dictionary of CDS and exon locations keyed by start and end positions\n",
        "    cds_dict = {}\n",
        "    with open(gff_file, \"r\") as f:\n",
        "        for line in f:\n",
        "            if not line.startswith(\"#\"):\n",
        "                cols = line.strip().split(\"\\t\")\n",
        "                feature = cols[2]\n",
        "                if feature == \"CDS\" or feature == \"exon\":\n",
        "                    start, end = map(int, cols[3:5])\n",
        "                    strand = cols[6]\n",
        "                    gene_name = cols[8].split(\";\")[0].split(\"=\")[1]\n",
        "                    if feature != \"region\":\n",
        "                        cds_dict[(start, end, cols[0])] = (strand, gene_name)\n",
        "\n",
        "    # Find the locations of the query sequence ## Find exact match\n",
        "    query_length = len(sequence)\n",
        "    locations = []\n",
        "    for genome_record in genome_records:\n",
        "        genome_seq = genome_record.seq\n",
        "        chromosome_name = genome_record.id\n",
        "        for strand, nucleotide_seq in [(+1, sequence), (-1, reverse_complement(sequence))]:\n",
        "            for i in range(len(genome_seq) - query_length + 1):\n",
        "                num_matching_bases = sum([genome_seq[i+j].upper() == nucleotide_seq[j].upper() for j in range(query_length)])\n",
        "                if num_matching_bases == query_length:\n",
        "                    start_pos = i+1\n",
        "                    end_pos = i+query_length\n",
        "                    locations.append((chromosome_name, start_pos, end_pos, strand, nucleotide_seq))\n",
        "\n",
        "    # Find the CDSs that overlap with the query sequence\n",
        "    overlapping_cds = []\n",
        "    for cds_start, cds_end, cds_chromosome in tqdm(cds_dict.keys(), desc=\"Finding overlapping CDSs\"):\n",
        "        for query_chromosome, query_start, query_end, query_strand, query_seq in locations:\n",
        "            if cds_start <= query_end and cds_end >= query_start and query_chromosome == cds_chromosome and cds_dict[(cds_start, cds_end, cds_chromosome)][1] != \"region\":\n",
        "                if query_strand == 1:\n",
        "                    if cds_dict[(cds_start, cds_end, cds_chromosome)][0] == \"+\":\n",
        "                        strand_comment = \"plus plus match\"\n",
        "                    else:\n",
        "                        strand_comment = \"reverse complement match\"\n",
        "                else:\n",
        "                    if cds_dict[(cds_start, cds_end, cds_chromosome)][0] == \"+\":\n",
        "                        strand_comment = \"reverse complement match\"\n",
        "                    else:\n",
        "                        strand_comment = \"plus plus match\"\n",
        "                cds_comment = \"\"\n",
        "                if query_start <= cds_start <= query_end or query_start <= cds_end <= query_end:\n",
        "                    cds_comment = \"Translational Start Site Included\"\n",
        "                overlapping_cds.append((cds_dict[(cds_start, cds_end, cds_chromosome)][1], cds_start, cds_end, cds_dict[(cds_start, cds_end, cds_chromosome)][0], query_chromosome, query_start, query_end, query_strand, strand_comment, cds_comment, query_seq))\n",
        "\n",
        "\n",
        "\n",
        "    return overlapping_cds\n",
        "\n",
        "\n",
        "# Set the filenames and query sequence\n",
        "\n",
        "genome_file = \"/content/drive/MyDrive/Apisum_Buchnera_genome_gff/GCF_000009605.1_ASM960v1_genomic.fna\" ##Buchnera strain APS_change the path if necessary\n",
        "gff_file = \"/content/drive/MyDrive/Apisum_Buchnera_genome_gff/GCF_000009605.1_ASM960v1_genomic.gff\" ##fasta & gff3 files were downloaded from NCBI Genome and stored in Gdrive\n",
        "#query_sequence = \"GCCATTTGAC\" # PNA_GroEL_sequence\n",
        "#query_sequence = \"GCGATTTGTC\" # PNA_mm_sequence\n",
        "\n",
        "\n",
        "\n",
        "\n",
        "def write_results_to_file(results, output_file):\n",
        "    with open(output_file, \"w\") as f:\n",
        "        f.write(\"Gene Name\\tCDS start position\\tCDS end position\\tStrand\\tQuery start position\\tQuery end position\\tQuery strand\\tComment\\tExtra Comment\\tQuery sequence\\n\")\n",
        "        for result in results:\n",
        "            f.write(\"\\t\".join(map(str, result)) + \"\\n\")\n",
        "\n",
        "# Run the function and write the results to a tab-delimited file\n",
        "output_file = \"output.txt\"\n",
        "results = find_sequence(genome_file, query_sequence, gff_file)\n",
        "write_results_to_file(results, output_file)\n",
        "\n"
      ]
    }
  ]
}